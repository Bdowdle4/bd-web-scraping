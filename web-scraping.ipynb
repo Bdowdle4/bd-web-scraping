{
 "cells": [
  {
   "cell_type": "markdown",
   "metadata": {},
   "source": [
    "# Web Mining and Applied NLP (44-620)\n",
    "\n",
    "## Web Scraping and NLP with Requests, BeautifulSoup, and spaCy\n",
    "\n",
    "### Student Name: Brittany Dowdle\n",
    "\n",
    "### **[Clickable link to GitHub Repo](https://github.com/Bdowdle4/bd-web-scraping)**\n",
    "\n",
    "Perform the tasks described in the Markdown cells below.  When you have completed the assignment make sure your code cells have all been run (and have output beneath them) and ensure you have committed and pushed ALL of your changes to your assignment repository.\n",
    "\n",
    "Every question that requires you to write code will have a code cell underneath it; you may either write your entire solution in that cell or write it in a python file (`.py`), then import and run the appropriate code to answer the question.\n",
    "***"
   ]
  },
  {
   "cell_type": "code",
   "execution_count": 1,
   "metadata": {},
   "outputs": [
    {
     "name": "stdout",
     "output_type": "stream",
     "text": [
      "Package                   VersionAll prereqs installed.\n",
      "\n",
      "------------------------- --------------\n",
      "annotated-types           0.7.0\n",
      "anyio                     4.6.2.post1\n",
      "argon2-cffi               23.1.0\n",
      "argon2-cffi-bindings      21.2.0\n",
      "arrow                     1.3.0\n",
      "asttokens                 2.4.1\n",
      "async-lru                 2.0.4\n",
      "attrs                     24.2.0\n",
      "babel                     2.16.0\n",
      "beautifulsoup4            4.12.3\n",
      "bleach                    6.2.0\n",
      "blis                      1.0.1\n",
      "catalogue                 2.0.10\n",
      "certifi                   2024.8.30\n",
      "cffi                      1.17.1\n",
      "charset-normalizer        3.4.0\n",
      "click                     8.1.7\n",
      "cloudpathlib              0.20.0\n",
      "colorama                  0.4.6\n",
      "comm                      0.2.2\n",
      "confection                0.1.5\n",
      "contourpy                 1.3.1\n",
      "cycler                    0.12.1\n",
      "cymem                     2.0.10\n",
      "debugpy                   1.8.9\n",
      "decorator                 5.1.1\n",
      "defusedxml                0.7.1\n",
      "en_core_web_sm            3.8.0\n",
      "executing                 2.1.0\n",
      "fastjsonschema            2.20.0\n",
      "fonttools                 4.55.0\n",
      "fqdn                      1.5.1\n",
      "h11                       0.14.0\n",
      "html5lib                  1.1\n",
      "httpcore                  1.0.7\n",
      "httpx                     0.27.2\n",
      "idna                      3.10\n",
      "ipykernel                 6.29.5\n",
      "ipython                   8.29.0\n",
      "isoduration               20.11.0\n",
      "jedi                      0.19.2\n",
      "Jinja2                    3.1.4\n",
      "joblib                    1.4.2\n",
      "json5                     0.9.28\n",
      "jsonpointer               3.0.0\n",
      "jsonschema                4.23.0\n",
      "jsonschema-specifications 2024.10.1\n",
      "jupyter_client            8.6.3\n",
      "jupyter_core              5.7.2\n",
      "jupyter-events            0.10.0\n",
      "jupyter-lsp               2.2.5\n",
      "jupyter_server            2.14.2\n",
      "jupyter_server_terminals  0.5.3\n",
      "jupyterlab                4.3.1\n",
      "jupyterlab_pygments       0.3.0\n",
      "jupyterlab_server         2.27.3\n",
      "kiwisolver                1.4.7\n",
      "langcodes                 3.5.0\n",
      "language_data             1.3.0\n",
      "marisa-trie               1.2.1\n",
      "markdown-it-py            3.0.0\n",
      "MarkupSafe                3.0.2\n",
      "matplotlib                3.9.2\n",
      "matplotlib-inline         0.1.7\n",
      "mdurl                     0.1.2\n",
      "mistune                   3.0.2\n",
      "murmurhash                1.0.11\n",
      "nbclient                  0.10.0\n",
      "nbconvert                 7.16.4\n",
      "nbformat                  5.10.4\n",
      "nest-asyncio              1.6.0\n",
      "nltk                      3.9.1\n",
      "notebook_shim             0.2.4\n",
      "numpy                     2.0.2\n",
      "overrides                 7.7.0\n",
      "packaging                 24.2\n",
      "pandocfilters             1.5.1\n",
      "parso                     0.8.4\n",
      "pillow                    11.0.0\n",
      "pip                       24.3.1\n",
      "platformdirs              4.3.6\n",
      "preshed                   3.0.9\n",
      "prometheus_client         0.21.0\n",
      "prompt_toolkit            3.0.48\n",
      "psutil                    6.1.0\n",
      "pure_eval                 0.2.3\n",
      "pycparser                 2.22\n",
      "pydantic                  2.10.1\n",
      "pydantic_core             2.27.1\n",
      "Pygments                  2.18.0\n",
      "pyparsing                 3.2.0\n",
      "python-dateutil           2.9.0.post0\n",
      "python-json-logger        2.0.7\n",
      "pywin32                   308\n",
      "pywinpty                  2.0.14\n",
      "PyYAML                    6.0.2\n",
      "pyzmq                     26.2.0\n",
      "referencing               0.35.1\n",
      "regex                     2024.11.6\n",
      "requests                  2.32.3\n",
      "rfc3339-validator         0.1.4\n",
      "rfc3986-validator         0.1.1\n",
      "rich                      13.9.4\n",
      "rpds-py                   0.21.0\n",
      "Send2Trash                1.8.3\n",
      "setuptools                75.6.0\n",
      "shellingham               1.5.4\n",
      "six                       1.16.0\n",
      "smart-open                7.0.5\n",
      "sniffio                   1.3.1\n",
      "soupsieve                 2.6\n",
      "spacy                     3.8.2\n",
      "spacy-legacy              3.0.12\n",
      "spacy-loggers             1.0.5\n",
      "spacytextblob             5.0.0\n",
      "srsly                     2.4.8\n",
      "stack-data                0.6.3\n",
      "terminado                 0.18.1\n",
      "textblob                  0.18.0.post0\n",
      "thinc                     8.3.2\n",
      "tinycss2                  1.4.0\n",
      "tornado                   6.4.2\n",
      "tqdm                      4.67.0\n",
      "traitlets                 5.14.3\n",
      "typer                     0.13.1\n",
      "types-python-dateutil     2.9.0.20241003\n",
      "typing_extensions         4.12.2\n",
      "uri-template              1.3.0\n",
      "urllib3                   2.2.3\n",
      "wasabi                    1.1.3\n",
      "wcwidth                   0.2.13\n",
      "weasel                    0.4.1\n",
      "webcolors                 24.11.1\n",
      "webencodings              0.5.1\n",
      "websocket-client          1.8.0\n",
      "wheel                     0.45.1\n",
      "wrapt                     1.17.0\n"
     ]
    }
   ],
   "source": [
    "# Create and activate a Python virtual environment. \n",
    "# Before starting the project, try all these imports FIRST\n",
    "# Address any errors you get running this code cell \n",
    "# by installing the necessary packages into your active Python environment.\n",
    "# Try to resolve issues using your materials and the web.\n",
    "# If that doesn't work, ask for help in the discussion forums.\n",
    "# You can't complete the exercises until you import these - start early! \n",
    "# We also import pickle and Counter (included in the Python Standard Library).\n",
    "\n",
    "from collections import Counter\n",
    "import pickle\n",
    "import requests\n",
    "import spacy\n",
    "from bs4 import BeautifulSoup\n",
    "import matplotlib.pyplot as plt\n",
    "\n",
    "!pip list\n",
    "\n",
    "print('All prereqs installed.')"
   ]
  },
  {
   "cell_type": "markdown",
   "metadata": {},
   "source": [
    "***\n",
    "### **Question 1**"
   ]
  },
  {
   "cell_type": "markdown",
   "metadata": {},
   "source": [
    "Write code that extracts the article html from https://web.archive.org/web/20210327165005/https://hackaday.com/2021/03/22/how-laser-headlights-work/ and dumps it to a .pkl (or other appropriate file)"
   ]
  },
  {
   "cell_type": "code",
   "execution_count": 2,
   "metadata": {},
   "outputs": [
    {
     "name": "stdout",
     "output_type": "stream",
     "text": [
      "HTML content saved to 'article.pkl'.\n",
      "HTML content also saved to 'article.html'.\n"
     ]
    }
   ],
   "source": [
    "import requests\n",
    "import pickle\n",
    "\n",
    "# URL of the archived article\n",
    "url = \"https://web.archive.org/web/20210327165005/https://hackaday.com/2021/03/22/how-laser-headlights-work/\"\n",
    "\n",
    "try:\n",
    "    # Fetch the HTML content\n",
    "    response = requests.get(url)\n",
    "    response.raise_for_status()  # Raise an exception for HTTP errors\n",
    "    html_content = response.text\n",
    "\n",
    "    # Save the HTML content to a .pkl file\n",
    "    with open(\"article.pkl\", \"wb\") as file:\n",
    "        pickle.dump(html_content, file)\n",
    "\n",
    "    print(\"HTML content saved to 'article.pkl'.\")\n",
    "\n",
    "    # (Optional) Save the content to a .html file for easier viewing\n",
    "    with open(\"article.html\", \"w\", encoding=\"utf-8\") as html_file:\n",
    "        html_file.write(html_content)\n",
    "\n",
    "    print(\"HTML content also saved to 'article.html'.\")\n",
    "except Exception as e:\n",
    "    print(f\"An error occurred: {e}\")\n",
    "    "
   ]
  },
  {
   "cell_type": "markdown",
   "metadata": {},
   "source": [
    "### **Question 2**"
   ]
  },
  {
   "cell_type": "markdown",
   "metadata": {},
   "source": [
    "Read in your article's html source from the file you created in question 1 and print it's text (use `.get_text()`)"
   ]
  },
  {
   "cell_type": "code",
   "execution_count": 3,
   "metadata": {},
   "outputs": [
    {
     "name": "stdout",
     "output_type": "stream",
     "text": [
      "Article Text:\n",
      "\n",
      "When we think about the onward march of automotive technology, headlights aren’t usually the first thing that come to mind. Engines, fuel efficiency, and the switch to electric power are all more front of mind. However, that doesn’t mean there aren’t thousands of engineers around the world working to improve the state of the art in automotive lighting day in, day out.Sealed beam headlights gave way to more modern designs once regulations loosened up, while bulbs moved from simple halogens to xenon HIDs and, more recently, LEDs. Now, a new technology is on the scene, with lasers!Laser Headlights?!BWM’s prototype laser headlight assemblies undergoing testing.The first image brought to mind by the phrase “laser headlights” is that of laser beams firing out the front of an automobile. Obviously, coherent beams of monochromatic light would make for poor illumination outside of a very specific spot quite some distance away. Thankfully for our eyes, laser headlights don’t work in this way at all.Instead, laser headlights consist of one or more solid state laser diodes mounted inside the headlight. These blue lasers are fired at a yellow phosphor, similar to that used in white LEDs. This produces a powerful, vibrant white light that can then be bounced off reflectors and out of the headlights towards the road. Laser headlights built in this way have several benefits. They’re more energy efficient than LEDs that put out the same amount of light, while also being more space efficient, too.BWM’s futuristic i8 was one of the first vehicles to ship with laser headlight technology.Laser headlights are still a nascent technology, thus far only appearing in a few BMW, Audi, and other select vehicles.BMW’s technology was developed in partnership with lighting experts OSRAM. In practice, a regular LED low-beam lamp is used, with the laser used to create an incredibly bright and focused spot, used for high-beams. This can provide illumination out to 600 meters ahead of the vehicle, double that of conventional LED high beams. The lights use indium gallium nitride diode lasers that were originally used in projectors, with power levels above 1 watt. One of the challenges in implementing such technology in an automotive environment is the need for it to operate at temperature extremes. While research lasers and laser pointers may primarily be used at typical room temperatures, automotive headlights must be able to withstand everything from 40 degrees below zero up to 50 degrees C. Thankfully, the laser’s high efficiency means it doesn’t have huge heat output of its own to further complicate things. Other engineering challenges involve tailoring the optics package for the rough-and-tumble, high vibration environment found in the automotive application. It’s also important to ensure, as with any such device, that the end user can’t be exposed to harmful laser radiation in the event of accident or malfunction.Tearing Down the Laser HeadlightA marketing image showing the construction of an aftermarket LED/laser headlight. We’d take the laser power with a grain of salt — it’s difficult to imagine a 10 W laser shining directly on some small LEDs without melting a hole through the board in short order.An aftermarket has sprung up too, with delightfully innovative designs. Combined laser/LED headlights are readily available on Alibaba,designed as a drop in replacement for projector lamps on existing vehicles.These often use an LED low-beam, and a combined LED/laser high beam, where the laser diode shoots directly at the LED phosphor to excite it further, rather than using its own. These units often also come with fan cooling to keep the laser and LEDs below their maximum operational temperature. Such developments are exciting, though it’s important to be wary of the performance of unknown aftermarket headlights.Many aftermarket LED headlight “upgrades” fail to pass musterwhen it comes to real-world performance, and there’s no reason to believe hybrid LED/laser designs will be any different. We’d love to pass a selection of these parts througha full IIHS test protocol, but that’s sadly beyond the scope (and budget!) of this article.However, [mikeselectricstuff] has happened to lay his hands on both the BMW and aftermarket parts,tearing them all down in his workshop to see what makes them tick.The differences are multitude when laid bare on the bench. The AliExpress part is relatively simple, wired up no differently from a regular headlight. Interestingly, however, the laser high-beam circuit runs all the time in these parts. To prevent blinding other road users, a shutter is kept in place to block the light, which is moved out of the way with a solenoid when the driver turns on the high beam switch.Where the aftermarket part is a little out of left field, the BMW design is another thing entirely. The cutting-edge headlights are hooked up with multiple connectors and over 30 conductors, with much of the driver electronics living in an external controller. Much of this is to drive the various LEDs and stepper motors for slewing the headlights when steering. However, the laser assembly brings its own complexities. Twin light sensors are built inside to monitor the laser beam, and a special metal blocking arm sits directly in front of the diode, presumably to stop the laser light leaving the headlight in the event the phosphor coating burns through. It’s truly wild to get a look inside a modern luxury car’s headlight and see just how far we’ve come from the old days of simple sealed beams.Cost Versus PerformanceDespite the efficiency gains available, the technology remains expensive. Powerful laser diodes don’t come cheap, after all. However, as the technology trickles down to lower-end models, it’s likely that we could see economies of scale change that for the better. Indeed, if national authorities begin to demand higher performance headlights as standard, we could see laser headlights become the norm, rather than an expensive luxury. The technology could naturally be applied to home and commercial lighting, too — though we suspect the potential gains are limited enough that LED lighting will remain the norm for some time to come.The high light output of laser headlights in a compact package allows engineers greater freedom when designing the front-end of a car.As it currently stands, much of the appeal of the new technology is about the packaging benefits, which allow automotive designers greater freedom around the headlight area. Such concerns are less of a factor when it comes to light fittings in the home or office, or indeed, on lower-end automobiles. Regardless, it’s an exciting new application for lasers and one we’ll be sure to see more of in the future.\n"
     ]
    }
   ],
   "source": [
    "import pickle\n",
    "from bs4 import BeautifulSoup\n",
    "\n",
    "# Load the HTML content from the .pkl file\n",
    "with open(\"article.pkl\", \"rb\") as file:\n",
    "    html_content = pickle.load(file)\n",
    "\n",
    "# Parse the HTML content using BeautifulSoup\n",
    "soup = BeautifulSoup(html_content, \"html.parser\")\n",
    "\n",
    "# Extract the article content by targeting a specific tag/class (example uses 'article-content')\n",
    "article_div = soup.find('div', class_='entry-content')  # Adjust based on the actual structure\n",
    "if article_div:\n",
    "    article_text = article_div.get_text(strip=True)\n",
    "    print(\"Article Text:\\n\")\n",
    "    print(article_text)\n",
    "else:\n",
    "    print(\"Could not find the article content.\")"
   ]
  },
  {
   "cell_type": "markdown",
   "metadata": {},
   "source": [
    "### **Question 3**"
   ]
  },
  {
   "cell_type": "markdown",
   "metadata": {},
   "source": [
    "Load the article text into a trained `spaCy` pipeline, and determine the 5 most frequent tokens (converted to lower case).  Print the common tokens with an appropriate label.  Additionally, print the tokens their frequencies (with appropriate labels). Make sure to remove things we don't care about (punctuation, stopwords, whitespace)."
   ]
  },
  {
   "cell_type": "code",
   "execution_count": 4,
   "metadata": {},
   "outputs": [
    {
     "name": "stdout",
     "output_type": "stream",
     "text": [
      "Top 5 most frequent tokens in the article (excluding punctuation, stopwords, and whitespace):\n",
      "Token: 'laser', Frequency: 29\n",
      "Token: 'headlights', Frequency: 16\n",
      "Token: 'technology', Frequency: 10\n",
      "Token: 'led', Frequency: 10\n",
      "Token: 'headlight', Frequency: 9\n"
     ]
    }
   ],
   "source": [
    "import pickle\n",
    "from bs4 import BeautifulSoup\n",
    "import spacy\n",
    "from collections import Counter\n",
    "\n",
    "# Load the HTML content from the .pkl file\n",
    "with open(\"article.pkl\", \"rb\") as file:\n",
    "    html_content = pickle.load(file)\n",
    "\n",
    "# Parse the HTML content using BeautifulSoup\n",
    "soup = BeautifulSoup(html_content, \"html.parser\")\n",
    "\n",
    "# Extract the article content by targeting a specific tag/class\n",
    "article_div = soup.find('div', class_='entry-content')  # Adjust based on the actual structure\n",
    "if article_div:\n",
    "    article_text = article_div.get_text(strip=True)\n",
    "else:\n",
    "    article_text = \"\"\n",
    "    print(\"Could not find the article content.\")\n",
    "\n",
    "# Load the spaCy language model (English)\n",
    "nlp = spacy.load(\"en_core_web_sm\")\n",
    "\n",
    "# Process the article text with spaCy\n",
    "doc = nlp(article_text)\n",
    "\n",
    "# Filter tokens: exclude stopwords, punctuation, and whitespace\n",
    "tokens = [\n",
    "    token.text.lower() for token in doc\n",
    "    if not token.is_stop and not token.is_punct and not token.is_space\n",
    "]\n",
    "\n",
    "# Count the frequencies of the tokens\n",
    "token_freq = Counter(tokens)\n",
    "\n",
    "# Get the 5 most common tokens\n",
    "most_common_tokens = token_freq.most_common(5)\n",
    "\n",
    "# Print the results\n",
    "print(\"Top 5 most frequent tokens in the article (excluding punctuation, stopwords, and whitespace):\")\n",
    "for token, freq in most_common_tokens:\n",
    "    print(f\"Token: '{token}', Frequency: {freq}\")"
   ]
  },
  {
   "cell_type": "markdown",
   "metadata": {},
   "source": [
    "### **Question 4**"
   ]
  },
  {
   "cell_type": "markdown",
   "metadata": {},
   "source": [
    "Load the article text into a trained `spaCy` pipeline, and determine the 5 most frequent lemmas (converted to lower case).  Print the common lemmas with an appropriate label.  Additionally, print the lemmas with their frequencies (with appropriate labels). Make sure to remove things we don't care about (punctuation, stopwords, whitespace)."
   ]
  },
  {
   "cell_type": "code",
   "execution_count": 5,
   "metadata": {},
   "outputs": [
    {
     "name": "stdout",
     "output_type": "stream",
     "text": [
      "Top 5 most frequent lemmas in the article (excluding punctuation, stopwords, and whitespace):\n",
      "Lemma: 'laser', Frequency: 33\n",
      "Lemma: 'headlight', Frequency: 25\n",
      "Lemma: 'beam', Frequency: 12\n",
      "Lemma: 'technology', Frequency: 10\n",
      "Lemma: 'led', Frequency: 10\n"
     ]
    }
   ],
   "source": [
    "import pickle\n",
    "from bs4 import BeautifulSoup\n",
    "import spacy\n",
    "from collections import Counter\n",
    "\n",
    "# Load the HTML content from the .pkl file\n",
    "with open(\"article.pkl\", \"rb\") as file:\n",
    "    html_content = pickle.load(file)\n",
    "\n",
    "# Parse the HTML content using BeautifulSoup\n",
    "soup = BeautifulSoup(html_content, \"html.parser\")\n",
    "\n",
    "# Extract the article content by targeting a specific tag/class\n",
    "article_div = soup.find('div', class_='entry-content')  # Adjust based on the actual structure\n",
    "if article_div:\n",
    "    article_text = article_div.get_text(strip=True)\n",
    "else:\n",
    "    article_text = \"\"\n",
    "    print(\"Could not find the article content.\")\n",
    "\n",
    "# Load the spaCy language model (English)\n",
    "nlp = spacy.load(\"en_core_web_sm\")\n",
    "\n",
    "# Process the article text with spaCy\n",
    "doc = nlp(article_text)\n",
    "\n",
    "# Filter tokens: exclude stopwords, punctuation, and whitespace, and use lemmas\n",
    "lemmas = [\n",
    "    token.lemma_.lower() for token in doc\n",
    "    if not token.is_stop and not token.is_punct and not token.is_space\n",
    "]\n",
    "\n",
    "# Count the frequencies of the lemmas\n",
    "lemma_freq = Counter(lemmas)\n",
    "\n",
    "# Get the 5 most common lemmas\n",
    "most_common_lemmas = lemma_freq.most_common(5)\n",
    "\n",
    "# Print the results\n",
    "print(\"Top 5 most frequent lemmas in the article (excluding punctuation, stopwords, and whitespace):\")\n",
    "for lemma, freq in most_common_lemmas:\n",
    "    print(f\"Lemma: '{lemma}', Frequency: {freq}\")"
   ]
  },
  {
   "cell_type": "markdown",
   "metadata": {},
   "source": [
    "### **Question 5**"
   ]
  },
  {
   "cell_type": "markdown",
   "metadata": {},
   "source": [
    "Define the following methods:\n",
    "    * `score_sentence_by_token(sentence, interesting_token)` that takes a sentence and a list of interesting token and returns the number of times that any of the interesting words appear in the sentence divided by the number of words in the sentence\n",
    "    * `score_sentence_by_lemma(sentence, interesting_lemmas)` that takes a sentence and a list of interesting lemmas and returns the number of times that any of the interesting lemmas appear in the sentence divided by the number of words in the sentence\n",
    "    \n",
    "You may find some of the code from the in class notes useful; feel free to use methods (rewrite them in this cell as well).  Test them by showing the score of the first sentence in your article using the frequent tokens and frequent lemmas identified in question 3."
   ]
  },
  {
   "cell_type": "code",
   "execution_count": 6,
   "metadata": {},
   "outputs": [
    {
     "name": "stdout",
     "output_type": "stream",
     "text": [
      "First Sentence: When we think about the onward march of automotive technology, headlights aren’t usually the first thing that come to mind.\n",
      "Token Score: 0.2\n",
      "Lemma Score: 0.2\n"
     ]
    }
   ],
   "source": [
    "import pickle\n",
    "from bs4 import BeautifulSoup\n",
    "import spacy\n",
    "\n",
    "# Load the HTML content from the .pkl file\n",
    "with open(\"article.pkl\", \"rb\") as file:\n",
    "    html_content = pickle.load(file)\n",
    "\n",
    "# Parse the HTML content using BeautifulSoup\n",
    "soup = BeautifulSoup(html_content, \"html.parser\")\n",
    "\n",
    "# Extract the article content by targeting a specific tag/class\n",
    "article_div = soup.find('div', class_='entry-content')  # Adjust based on the actual structure\n",
    "if article_div:\n",
    "    article_text = article_div.get_text(strip=True)\n",
    "else:\n",
    "    article_text = \"\"\n",
    "    print(\"Could not find the article content.\")\n",
    "\n",
    "# Load the spaCy language model (English)\n",
    "nlp = spacy.load(\"en_core_web_sm\")\n",
    "\n",
    "# Process the article text with spaCy\n",
    "doc = nlp(article_text)\n",
    "\n",
    "# Define the scoring methods\n",
    "def score_sentence_by_token(sentence, interesting_tokens):\n",
    "    \"\"\"\n",
    "    Calculate the score of a sentence by tokens.\n",
    "    :param sentence: The sentence to score.\n",
    "    :param interesting_tokens: List of interesting tokens.\n",
    "    :return: The score of the sentence.\n",
    "    \"\"\"\n",
    "    tokens = [token.text.lower() for token in sentence if not token.is_stop and not token.is_punct]\n",
    "    count = sum(1 for token in tokens if token in interesting_tokens)\n",
    "    return count / len(tokens) if tokens else 0\n",
    "\n",
    "def score_sentence_by_lemma(sentence, interesting_lemmas):\n",
    "    \"\"\"\n",
    "    Calculate the score of a sentence by lemmas.\n",
    "    :param sentence: The sentence to score.\n",
    "    :param interesting_lemmas: List of interesting lemmas.\n",
    "    :return: The score of the sentence.\n",
    "    \"\"\"\n",
    "    lemmas = [token.lemma_.lower() for token in sentence if not token.is_stop and not token.is_punct]\n",
    "    count = sum(1 for lemma in lemmas if lemma in interesting_lemmas)\n",
    "    return count / len(lemmas) if lemmas else 0\n",
    "\n",
    "# Use the frequent Tokens/lemmas identified in the previous steps\n",
    "interesting_tokens = ['laser','headlights','technology','led','headlight']\n",
    "interesting_lemmas = ['laser','headlight','beam','technology','led']\n",
    "\n",
    "# Process the first sentence\n",
    "first_sentence = list(doc.sents)[0]\n",
    "\n",
    "# Calculate scores for the first sentence\n",
    "token_score = score_sentence_by_token(first_sentence, interesting_tokens)\n",
    "lemma_score = score_sentence_by_lemma(first_sentence, interesting_lemmas)\n",
    "\n",
    "# Print the results\n",
    "print(f\"First Sentence: {first_sentence.text}\")\n",
    "print(f\"Token Score: {token_score}\")\n",
    "print(f\"Lemma Score: {lemma_score}\")"
   ]
  },
  {
   "cell_type": "markdown",
   "metadata": {},
   "source": [
    "### **Question 6**"
   ]
  },
  {
   "cell_type": "markdown",
   "metadata": {},
   "source": [
    "Make a list containing the scores (using tokens) of every sentence in the article, and plot a histogram with appropriate titles and axis labels of the scores. From your histogram, what seems to be the most common range of scores (put the answer in a comment after your code)?"
   ]
  },
  {
   "cell_type": "code",
   "execution_count": 12,
   "metadata": {},
   "outputs": [
    {
     "data": {
      "image/png": "[encoded data removed]",
      "text/plain": [
       "<Figure size 1200x600 with 1 Axes>"
      ]
     },
     "metadata": {},
     "output_type": "display_data"
    }
   ],
   "source": [
    "import pickle\n",
    "from bs4 import BeautifulSoup\n",
    "import spacy\n",
    "from collections import Counter\n",
    "import matplotlib.pyplot as plt\n",
    "import numpy as np\n",
    "\n",
    "# Load the HTML content from the .pkl file\n",
    "with open(\"article.pkl\", \"rb\") as file:\n",
    "    html_content = pickle.load(file)\n",
    "\n",
    "# Parse the HTML content using BeautifulSoup\n",
    "soup = BeautifulSoup(html_content, \"html.parser\")\n",
    "\n",
    "# Extract the article content by targeting a specific tag/class\n",
    "article_div = soup.find('div', class_='entry-content')  # Adjust based on the actual structure\n",
    "if article_div:\n",
    "    article_text = article_div.get_text(strip=True)\n",
    "else:\n",
    "    article_text = \"\"\n",
    "    print(\"Could not find the article content.\")\n",
    "\n",
    "# Load the spaCy language model (English)\n",
    "nlp = spacy.load(\"en_core_web_sm\")\n",
    "\n",
    "# Process the article text with spaCy\n",
    "doc = nlp(article_text)\n",
    "\n",
    "# Define the scoring method\n",
    "def score_sentence_by_token(sentence, interesting_tokens):\n",
    "    \"\"\"\n",
    "    Calculate the score of a sentence by tokens.\n",
    "    :param sentence: The sentence to score.\n",
    "    :param interesting_tokens: List of interesting tokens.\n",
    "    :return: The score of the sentence.\n",
    "    \"\"\"\n",
    "    tokens = [token.text.lower() for token in sentence if not token.is_stop and not token.is_punct]\n",
    "    count = sum(1 for token in tokens if token in interesting_tokens)\n",
    "    return count / len(tokens) if tokens else 0\n",
    "\n",
    "# Interesting tokens for scoring\n",
    "interesting_tokens = ['laser','headlights','technology','led','headlight']\n",
    "\n",
    "# Calculate scores for every sentence\n",
    "scores = [score_sentence_by_token(sentence, interesting_tokens) for sentence in doc.sents]\n",
    "\n",
    "# Define bin edges from scores with intervals of 0.02\n",
    "bin_edges = np.arange(0, max(scores) + 0.02, 0.02)\n",
    "\n",
    "# Plot the histogram\n",
    "plt.figure(figsize=(12, 6))  # Make the histogram wider\n",
    "plt.hist(scores, bins=bin_edges, color='lightgreen', edgecolor='black')\n",
    "plt.title('Distribution of Sentence Scores (Tokens)', fontsize=16)\n",
    "plt.xlabel('Score', fontsize=14)\n",
    "plt.ylabel('Frequency', fontsize=14)\n",
    "plt.xticks(bin_edges, rotation=45)  # Set x-ticks to match bin intervals\n",
    "plt.grid(axis='y', linestyle='--', alpha=0.7)\n",
    "plt.show()\n",
    "\n",
    "# Observation Comment: The most common range of scores appears to be between 0.00 and 0.02.\n",
    "# Indicating that most sentences in the article have few mentions of the interesting tokens relative to their total length.\n"
   ]
  },
  {
   "cell_type": "markdown",
   "metadata": {},
   "source": [
    "### **Question 7**"
   ]
  },
  {
   "cell_type": "markdown",
   "metadata": {},
   "source": [
    "Make a list containing the scores (using lemmas) of every sentence in the article, and plot a histogram with appropriate titles and axis labels of the scores.  From your histogram, what seems to be the most common range of scores (put the answer in a comment after your code)?"
   ]
  },
  {
   "cell_type": "code",
   "execution_count": 13,
   "metadata": {},
   "outputs": [
    {
     "data": {
      "image/png": "[encoded data removed]",
      "text/plain": [
       "<Figure size 1200x600 with 1 Axes>"
      ]
     },
     "metadata": {},
     "output_type": "display_data"
    }
   ],
   "source": [
    "import pickle\n",
    "from bs4 import BeautifulSoup\n",
    "import spacy\n",
    "import matplotlib.pyplot as plt\n",
    "import numpy as np\n",
    "\n",
    "# Load the HTML content from the .pkl file\n",
    "with open(\"article.pkl\", \"rb\") as file:\n",
    "    html_content = pickle.load(file)\n",
    "\n",
    "# Parse the HTML content using BeautifulSoup\n",
    "soup = BeautifulSoup(html_content, \"html.parser\")\n",
    "\n",
    "# Extract the article content by targeting a specific tag/class\n",
    "article_div = soup.find('div', class_='entry-content')  # Adjust based on the actual structure\n",
    "if article_div:\n",
    "    article_text = article_div.get_text(strip=True)\n",
    "else:\n",
    "    article_text = \"\"\n",
    "    print(\"Could not find the article content.\")\n",
    "\n",
    "# Load the spaCy language model (English)\n",
    "nlp = spacy.load(\"en_core_web_sm\")\n",
    "\n",
    "# Process the article text with spaCy\n",
    "doc = nlp(article_text)\n",
    "\n",
    "# Define the scoring method using lemmas\n",
    "def score_sentence_by_lemma(sentence, interesting_lemmas):\n",
    "    \"\"\"\n",
    "    Calculate the score of a sentence by lemmas.\n",
    "    :param sentence: The sentence to score.\n",
    "    :param interesting_lemmas: List of interesting lemmas.\n",
    "    :return: The score of the sentence.\n",
    "    \"\"\"\n",
    "    lemmas = [token.lemma_.lower() for token in sentence if not token.is_stop and not token.is_punct]\n",
    "    count = sum(1 for lemma in lemmas if lemma in interesting_lemmas)\n",
    "    return count / len(lemmas) if lemmas else 0\n",
    "\n",
    "# Interesting lemmas for scoring\n",
    "interesting_lemmas = ['laser', 'headlight', 'beam', 'technology', 'led']\n",
    "\n",
    "# Calculate scores for every sentence\n",
    "scores = [score_sentence_by_lemma(sentence, interesting_lemmas) for sentence in doc.sents]\n",
    "\n",
    "# Define bin edges from scores with intervals of 0.02\n",
    "bin_edges = np.arange(0, max(scores) + 0.02, 0.02)\n",
    "\n",
    "# Plot the histogram\n",
    "plt.figure(figsize=(12, 6))  # Make the histogram wider\n",
    "plt.hist(scores, bins=bin_edges, color='lightcoral', edgecolor='black')\n",
    "plt.title('Distribution of Sentence Scores (Lemmas)', fontsize=16)\n",
    "plt.xlabel('Score', fontsize=14)\n",
    "plt.ylabel('Frequency', fontsize=14)\n",
    "plt.xticks(bin_edges, rotation=45)  # Set x-ticks to match bin intervals\n",
    "plt.grid(axis='y', linestyle='--', alpha=0.7)\n",
    "plt.show()\n",
    "\n",
    "# Observation Comment: The most common range of scores appears to be between 0.0 and 0.2.\n",
    "# Indicating that most sentences in the article have few mentions of the interesting lemmas relative to their total length.\n",
    "# I also did a quick google check to verify!\n"
   ]
  },
  {
   "cell_type": "markdown",
   "metadata": {},
   "source": [
    "### **Question 8**"
   ]
  },
  {
   "cell_type": "markdown",
   "metadata": {},
   "source": [
    "Which tokens and lexems would be ommitted from the lists generated in questions 3 and 4 if we only wanted to consider nouns as interesting words?  How might we change the code to only consider nouns? Put your answer in this Markdown cell (you can edit it by double clicking it).\n",
    "\n",
    ">The token that would be discarded is 'headlights' if you go off of spaCy and the token.pos_ == 'NOUN' code. I ran this below to figure out what the \"officical\" answer would be. This is due to being a plural noun. When you run the code for the lemmas all of the words are kept due to plurals being grouped into the base or root word.\n",
    ">\n",
    ">Original code example:\n",
    ">\n",
    "```tokens = [token.text.lower() for token in sentence if not token.is_stop and not token.is_punct]```\n",
    ">\n",
    ">Updated code example:\n",
    ">\n",
    "> \n",
    "~~~\n",
    "nouns = [ ]\n",
    "    for word in interesting_tokens:\n",
    "         if any(word == token.lemma_ and token.pos_ == 'NOUN' for token in doc):\n",
    "            nouns.append(word)\n",
    "~~~"
   ]
  },
  {
   "cell_type": "markdown",
   "metadata": {},
   "source": [
    "***\n",
    "Verifying # 8"
   ]
  },
  {
   "cell_type": "code",
   "execution_count": 9,
   "metadata": {},
   "outputs": [
    {
     "name": "stdout",
     "output_type": "stream",
     "text": [
      "Discarded tokens (not nouns): ['headlights']\n"
     ]
    }
   ],
   "source": [
    "import pickle\n",
    "from bs4 import BeautifulSoup\n",
    "import spacy\n",
    "\n",
    "# Load the HTML content from the .pkl file\n",
    "with open(\"article.pkl\", \"rb\") as file:\n",
    "    html_content = pickle.load(file)\n",
    "\n",
    "# Parse the HTML content using BeautifulSoup\n",
    "soup = BeautifulSoup(html_content, \"html.parser\")\n",
    "\n",
    "# Extract the article content\n",
    "article_div = soup.find('div', class_='entry-content')  # Adjust based on the actual structure\n",
    "if article_div:\n",
    "    article_text = article_div.get_text(strip=True)\n",
    "else:\n",
    "    article_text = \"\"\n",
    "    print(\"Could not find the article content.\")\n",
    "\n",
    "# Load the spaCy language model (English)\n",
    "nlp = spacy.load(\"en_core_web_sm\")\n",
    "\n",
    "# Process the article text\n",
    "doc = nlp(article_text)\n",
    "\n",
    "# Interesting tokens to check\n",
    "interesting_tokens = ['laser', 'headlights', 'technology', 'led', 'headlight']\n",
    "\n",
    "# Filter which of these tokens are nouns based on their lemma\n",
    "nouns = []\n",
    "for word in interesting_tokens:\n",
    "    # Check if the word lemma is a noun\n",
    "    if any(word == token.lemma_ and token.pos_ == 'NOUN' for token in doc):\n",
    "        nouns.append(word)\n",
    "\n",
    "# Print discarded tokens (not nouns)\n",
    "discarded_tokens = [word for word in interesting_tokens if word not in nouns]\n",
    "print(\"Discarded tokens (not nouns):\", discarded_tokens)\n"
   ]
  },
  {
   "cell_type": "code",
   "execution_count": 10,
   "metadata": {},
   "outputs": [
    {
     "name": "stdout",
     "output_type": "stream",
     "text": [
      "Discarded lemmas (not nouns): []\n"
     ]
    }
   ],
   "source": [
    "import pickle\n",
    "from bs4 import BeautifulSoup\n",
    "import spacy\n",
    "\n",
    "# Load the HTML content from the .pkl file\n",
    "with open(\"article.pkl\", \"rb\") as file:\n",
    "    html_content = pickle.load(file)\n",
    "\n",
    "# Parse the HTML content using BeautifulSoup\n",
    "soup = BeautifulSoup(html_content, \"html.parser\")\n",
    "\n",
    "# Extract the article content\n",
    "article_div = soup.find('div', class_='entry-content')  # Adjust based on the actual structure\n",
    "if article_div:\n",
    "    article_text = article_div.get_text(strip=True)\n",
    "else:\n",
    "    article_text = \"\"\n",
    "    print(\"Could not find the article content.\")\n",
    "\n",
    "# Load the spaCy language model (English)\n",
    "nlp = spacy.load(\"en_core_web_sm\")\n",
    "\n",
    "# Process the article text\n",
    "doc = nlp(article_text)\n",
    "\n",
    "# Interesting lemmas to check\n",
    "interesting_lemmas = ['laser', 'headlight', 'beam', 'technology', 'led']\n",
    "\n",
    "# Filter which of these lemmas are nouns\n",
    "nouns = []\n",
    "for lemma in interesting_lemmas:\n",
    "    # Check if any token with this lemma is a noun\n",
    "    if any(lemma == token.lemma_ and token.pos_ == 'NOUN' for token in doc):\n",
    "        nouns.append(lemma)\n",
    "\n",
    "# Print discarded lemmas (not nouns)\n",
    "discarded_lemmas = [lemma for lemma in interesting_lemmas if lemma not in nouns]\n",
    "print(\"Discarded lemmas (not nouns):\", discarded_lemmas)"
   ]
  },
  {
   "cell_type": "code",
   "execution_count": 11,
   "metadata": {},
   "outputs": [
    {
     "name": "stderr",
     "output_type": "stream",
     "text": [
      "[NbConvertApp] Converting notebook web-scraping.ipynb to html\n",
      "[NbConvertApp] WARNING | Alternative text is missing on 2 image(s).\n",
      "[NbConvertApp] Writing 445462 bytes to web-scraping.html\n"
     ]
    }
   ],
   "source": [
    "!jupyter nbconvert --to html web-scraping.ipynb"
   ]
  }
 ],
 "metadata": {
  "kernelspec": {
   "display_name": ".venv",
   "language": "python",
   "name": "python3"
  },
  "language_info": {
   "codemirror_mode": {
    "name": "ipython",
    "version": 3
   },
   "file_extension": ".py",
   "mimetype": "text/x-python",
   "name": "python",
   "nbconvert_exporter": "python",
   "pygments_lexer": "ipython3",
   "version": "3.12.4"
  }
 },
 "nbformat": 4,
 "nbformat_minor": 4
}
